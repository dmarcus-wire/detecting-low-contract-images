{
 "cells": [
  {
   "cell_type": "markdown",
   "source": [
    "Low contrast frame detection in real-time video"
   ],
   "metadata": {
    "collapsed": false
   }
  },
  {
   "cell_type": "code",
   "execution_count": 3,
   "outputs": [],
   "source": [
    "import cv2\n",
    "import imutils\n",
    "import numpy as np\n",
    "\n",
    "args = {\n",
    "    \"input\": \"videos/boats.mp4\",\n",
    "    \"thresh\": 0.35,\n",
    "    \"output\": \"output.avi\"\n",
    "}"
   ],
   "metadata": {
    "collapsed": false,
    "pycharm": {
     "name": "#%%\n"
    }
   }
  },
  {
   "cell_type": "code",
   "execution_count": 4,
   "outputs": [
    {
     "name": "stdout",
     "output_type": "stream",
     "text": [
      "[INFO] accessing video stream...\n",
      "[INFO] no frame read from stream - exiting\n"
     ]
    }
   ],
   "source": [
    "# grab a pointer to the input video stream and and initialize pointer\n",
    "# to output file\n",
    "print(\"[INFO] accessing video stream...\")\n",
    "vs = cv2.VideoCapture(args[\"input\"] if args[\"input\"] else 0)\n",
    "writer = None\n",
    "\n",
    "# loop over frames from the video stream\n",
    "while True:\n",
    "\t# read a frame from the video stream\n",
    "\t(grabbed, frame) = vs.read()\n",
    "\n",
    "\t# if the frame was not grabbed then we've reached the end of\n",
    "\t# the video stream so exit the script\n",
    "\tif not grabbed:\n",
    "\t\tprint(\"[INFO] no frame read from stream - exiting\")\n",
    "\t\tbreak\n",
    "\n",
    "\t# resize the frame, convert it to grayscale, blur it, and then\n",
    "\t# perform edge detection\n",
    "\tframe = imutils.resize(frame, width=450)\n",
    "\tgray = cv2.cvtColor(frame, cv2.COLOR_BGR2GRAY)\n",
    "\tblurred = cv2.GaussianBlur(gray, (5, 5), 0)\n",
    "\tedged = cv2.Canny(blurred, 30, 150)\n",
    "\n",
    "\t# initialize the text and color to indicate that the current\n",
    "\t# frame is *not* low contrast\n",
    "\ttext = \"Low contrast: No\"\n",
    "\tcolor = (0, 255, 0)\n",
    "\n",
    "\t# check to see if the frame is low contrast, and if so, update\n",
    "\t# the text and color\n",
    "\tif is_low_contrast(gray, fraction_threshold=args[\"thresh\"]):\n",
    "\t\ttext = \"Low contrast: Yes\"\n",
    "\t\tcolor = (0, 0, 255)\n",
    "\n",
    "\t# otherwise, the frame is *not* low contrast, so we can continue\n",
    "\t# processing it\n",
    "\telse:\n",
    "\t\t# find contours in the edge map and find the largest one,\n",
    "\t\t# which we'll assume is the outline of our color correction\n",
    "\t\t# card\n",
    "\t\tcnts = cv2.findContours(edged.copy(), cv2.RETR_EXTERNAL,\n",
    "\t\t\tcv2.CHAIN_APPROX_SIMPLE)\n",
    "\t\tcnts = imutils.grab_contours(cnts)\n",
    "\t\tc = max(cnts, key=cv2.contourArea)\n",
    "\n",
    "\t\t# draw the largest contour on the frame\n",
    "\t\tcv2.drawContours(frame, [c], -1, (0, 255, 0), 2)\n",
    "\n",
    "\t# draw the text on the output frame\n",
    "\tcv2.putText(frame, text, (5, 25), cv2.FONT_HERSHEY_SIMPLEX, 0.8,\n",
    "\t\tcolor, 2)\n",
    "\n",
    "\t# stack the output frame and edge map next to each other\n",
    "\toutput = np.dstack([edged] * 3)\n",
    "\toutput = np.hstack([frame, output])\n",
    "\n",
    "    # if the video writer is None *AND* we are supposed to write\n",
    "\t# the output video to disk initialize the writer\n",
    "\tif writer is None and args[\"output\"] is not None:\n",
    "\t\tfourcc = cv2.VideoWriter_fourcc(*\"MJPG\")\n",
    "\t\twriter = cv2.VideoWriter(args[\"output\"], fourcc, 20,\n",
    "\t\t\t(output.shape[1], output.shape[0]), True)\n",
    "\n",
    "    # if the writer is not None, write the frame to disk\n",
    "\tif writer is not None:\n",
    "\t\twriter.write(output)\n",
    "\n",
    "# do a bit of cleanup\n",
    "vs.release()\n",
    "vs.release()\n",
    "\n",
    "# check to see if the video writer point needs to be released\n",
    "if writer is not None:\n",
    "\twriter.release()\n"
   ],
   "metadata": {
    "collapsed": false,
    "pycharm": {
     "name": "#%%\n"
    }
   }
  },
  {
   "cell_type": "code",
   "execution_count": null,
   "outputs": [],
   "source": [],
   "metadata": {
    "collapsed": false,
    "pycharm": {
     "name": "#%%\n"
    }
   }
  }
 ],
 "metadata": {
  "kernelspec": {
   "display_name": "Python 3",
   "language": "python",
   "name": "python3"
  },
  "language_info": {
   "codemirror_mode": {
    "name": "ipython",
    "version": 2
   },
   "file_extension": ".py",
   "mimetype": "text/x-python",
   "name": "python",
   "nbconvert_exporter": "python",
   "pygments_lexer": "ipython2",
   "version": "2.7.6"
  }
 },
 "nbformat": 4,
 "nbformat_minor": 0
}